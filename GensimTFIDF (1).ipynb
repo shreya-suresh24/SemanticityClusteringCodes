{
  "nbformat": 4,
  "nbformat_minor": 0,
  "metadata": {
    "colab": {
      "provenance": []
    },
    "kernelspec": {
      "name": "python3",
      "display_name": "Python 3"
    },
    "language_info": {
      "name": "python"
    }
  },
  "cells": [
    {
      "cell_type": "code",
      "source": [
        "!pip install umap-learn\n",
        "!pip install hdbscan"
      ],
      "metadata": {
        "colab": {
          "base_uri": "https://localhost:8080/"
        },
        "id": "QT5cGPnl5tt4",
        "outputId": "2099e16b-2fea-486b-d36d-07ee89d04d9d"
      },
      "execution_count": null,
      "outputs": [
        {
          "output_type": "stream",
          "name": "stdout",
          "text": [
            "Collecting umap-learn\n",
            "  Downloading umap_learn-0.5.6-py3-none-any.whl.metadata (21 kB)\n",
            "Requirement already satisfied: numpy>=1.17 in /usr/local/lib/python3.10/dist-packages (from umap-learn) (1.25.2)\n",
            "Requirement already satisfied: scipy>=1.3.1 in /usr/local/lib/python3.10/dist-packages (from umap-learn) (1.13.1)\n",
            "Requirement already satisfied: scikit-learn>=0.22 in /usr/local/lib/python3.10/dist-packages (from umap-learn) (1.3.2)\n",
            "Requirement already satisfied: numba>=0.51.2 in /usr/local/lib/python3.10/dist-packages (from umap-learn) (0.60.0)\n",
            "Collecting pynndescent>=0.5 (from umap-learn)\n",
            "  Downloading pynndescent-0.5.13-py3-none-any.whl.metadata (6.8 kB)\n",
            "Requirement already satisfied: tqdm in /usr/local/lib/python3.10/dist-packages (from umap-learn) (4.66.4)\n",
            "Requirement already satisfied: llvmlite<0.44,>=0.43.0dev0 in /usr/local/lib/python3.10/dist-packages (from numba>=0.51.2->umap-learn) (0.43.0)\n",
            "Requirement already satisfied: joblib>=0.11 in /usr/local/lib/python3.10/dist-packages (from pynndescent>=0.5->umap-learn) (1.4.2)\n",
            "Requirement already satisfied: threadpoolctl>=2.0.0 in /usr/local/lib/python3.10/dist-packages (from scikit-learn>=0.22->umap-learn) (3.5.0)\n",
            "Downloading umap_learn-0.5.6-py3-none-any.whl (85 kB)\n",
            "\u001b[2K   \u001b[90m━━━━━━━━━━━━━━━━━━━━━━━━━━━━━━━━━━━━━━━━\u001b[0m \u001b[32m85.7/85.7 kB\u001b[0m \u001b[31m3.7 MB/s\u001b[0m eta \u001b[36m0:00:00\u001b[0m\n",
            "\u001b[?25hDownloading pynndescent-0.5.13-py3-none-any.whl (56 kB)\n",
            "\u001b[2K   \u001b[90m━━━━━━━━━━━━━━━━━━━━━━━━━━━━━━━━━━━━━━━━\u001b[0m \u001b[32m56.9/56.9 kB\u001b[0m \u001b[31m2.6 MB/s\u001b[0m eta \u001b[36m0:00:00\u001b[0m\n",
            "\u001b[?25hInstalling collected packages: pynndescent, umap-learn\n",
            "Successfully installed pynndescent-0.5.13 umap-learn-0.5.6\n",
            "Collecting hdbscan\n",
            "  Downloading hdbscan-0.8.37-cp310-cp310-manylinux_2_17_x86_64.manylinux2014_x86_64.whl.metadata (13 kB)\n",
            "Collecting cython<3,>=0.27 (from hdbscan)\n",
            "  Downloading Cython-0.29.37-cp310-cp310-manylinux_2_17_x86_64.manylinux2014_x86_64.manylinux_2_24_x86_64.whl.metadata (3.1 kB)\n",
            "Requirement already satisfied: numpy<2,>=1.20 in /usr/local/lib/python3.10/dist-packages (from hdbscan) (1.25.2)\n",
            "Requirement already satisfied: scipy>=1.0 in /usr/local/lib/python3.10/dist-packages (from hdbscan) (1.13.1)\n",
            "Requirement already satisfied: scikit-learn>=0.20 in /usr/local/lib/python3.10/dist-packages (from hdbscan) (1.3.2)\n",
            "Requirement already satisfied: joblib>=1.0 in /usr/local/lib/python3.10/dist-packages (from hdbscan) (1.4.2)\n",
            "Requirement already satisfied: threadpoolctl>=2.0.0 in /usr/local/lib/python3.10/dist-packages (from scikit-learn>=0.20->hdbscan) (3.5.0)\n",
            "Downloading hdbscan-0.8.37-cp310-cp310-manylinux_2_17_x86_64.manylinux2014_x86_64.whl (3.6 MB)\n",
            "\u001b[2K   \u001b[90m━━━━━━━━━━━━━━━━━━━━━━━━━━━━━━━━━━━━━━━━\u001b[0m \u001b[32m3.6/3.6 MB\u001b[0m \u001b[31m34.1 MB/s\u001b[0m eta \u001b[36m0:00:00\u001b[0m\n",
            "\u001b[?25hDownloading Cython-0.29.37-cp310-cp310-manylinux_2_17_x86_64.manylinux2014_x86_64.manylinux_2_24_x86_64.whl (1.9 MB)\n",
            "\u001b[2K   \u001b[90m━━━━━━━━━━━━━━━━━━━━━━━━━━━━━━━━━━━━━━━━\u001b[0m \u001b[32m1.9/1.9 MB\u001b[0m \u001b[31m51.4 MB/s\u001b[0m eta \u001b[36m0:00:00\u001b[0m\n",
            "\u001b[?25hInstalling collected packages: cython, hdbscan\n",
            "  Attempting uninstall: cython\n",
            "    Found existing installation: Cython 3.0.10\n",
            "    Uninstalling Cython-3.0.10:\n",
            "      Successfully uninstalled Cython-3.0.10\n",
            "Successfully installed cython-0.29.37 hdbscan-0.8.37\n"
          ]
        }
      ]
    },
    {
      "cell_type": "code",
      "execution_count": null,
      "metadata": {
        "id": "EFFA69fvKDV0"
      },
      "outputs": [],
      "source": [
        "import numpy as np\n",
        "from gensim.models import TfidfModel\n",
        "from gensim.corpora import Dictionary\n",
        "from gensim.matutils import sparse2full\n",
        "from sklearn.cluster import KMeans\n",
        "#import umap.umap_ as umap\n",
        "#import hdbscan"
      ]
    },
    {
      "cell_type": "code",
      "source": [
        "texts  = [\"Looking for a software engineer proficient in Python and JavaScript to work on full-stack development with experience in Django and React.\", \"Seeking a marketing specialist with expertise in SEO, content strategy, and social media management to develop and execute digital marketing campaigns.\", \"Hiring a financial analyst to perform data-driven analysis, generate financial reports, and assist in strategic decision-making.\", \"Looking for a machine learning engineer experienced in building models using TensorFlow and PyTorch to work on predictive analytics projects.\", \"We are looking for a project manager with PMP certification to oversee software development teams and ensure project delivery within deadlines.\", \"Seeking a UX/UI designer to create engaging, user-friendly interfaces, with strong skills in Figma and Adobe XD.\", \"Hiring a data scientist with experience in statistical modeling, data mining, and visualization tools like Tableau and Power BI.\", \"Looking for a content writer to produce high-quality blog posts, articles, and copy for websites, with excellent research and writing skills.\", \"Seeking an HR manager to handle employee relations, talent acquisition, and performance management for a fast-growing tech startup.\", \"We are hiring a customer support specialist to manage client queries and provide exceptional service through multiple channels, including chat, phone, and email.\"]"
      ],
      "metadata": {
        "id": "2vQGgKtaOAlM"
      },
      "execution_count": null,
      "outputs": []
    },
    {
      "cell_type": "code",
      "source": [
        "tokenized_texts = [text.lower().split() for text in texts]\n",
        "dictionary = Dictionary(tokenized_texts)\n",
        "corpus = [dictionary.doc2bow(text) for text in tokenized_texts]"
      ],
      "metadata": {
        "id": "qkR7DQYaOHRt"
      },
      "execution_count": null,
      "outputs": []
    },
    {
      "cell_type": "code",
      "source": [
        "tfidf = TfidfModel(corpus)\n",
        "tfidf_vectors = np.array([sparse2full(tfidf[dictionary.doc2bow(text)], len(dictionary)) for text in tokenized_texts])"
      ],
      "metadata": {
        "id": "rYmto_bvOJI5"
      },
      "execution_count": null,
      "outputs": []
    },
    {
      "cell_type": "code",
      "source": [
        "n_clusters = 5 # Desired number of clusters\n",
        "kmeans = KMeans(n_clusters=n_clusters, random_state=0)\n",
        "cluster_labels = kmeans.fit_predict(tfidf_vectors)"
      ],
      "metadata": {
        "colab": {
          "base_uri": "https://localhost:8080/"
        },
        "id": "7LQSqVFEOLzY",
        "outputId": "d0379fda-c536-4720-8e08-e4bfd9543bba"
      },
      "execution_count": null,
      "outputs": [
        {
          "output_type": "stream",
          "name": "stderr",
          "text": [
            "/usr/local/lib/python3.10/dist-packages/sklearn/cluster/_kmeans.py:870: FutureWarning: The default value of `n_init` will change from 10 to 'auto' in 1.4. Set the value of `n_init` explicitly to suppress the warning\n",
            "  warnings.warn(\n"
          ]
        }
      ]
    },
    {
      "cell_type": "code",
      "source": [
        "def print_clusters(texts, labels, title):\n",
        "    clusters = {}\n",
        "    for i, label in enumerate(labels):\n",
        "        if label not in clusters:\n",
        "            clusters[label] = []\n",
        "        clusters[label].append(texts[i])\n",
        "\n",
        "    print(f\"\\n{title} Clusters:\")\n",
        "    for label, sentences in clusters.items():\n",
        "        print(f\"Cluster {label}:\")\n",
        "        for sentence in sentences:\n",
        "            print(f\"  {sentence}\")\n",
        "\n",
        "print_clusters(texts, cluster_labels, 'TFIDF')"
      ],
      "metadata": {
        "colab": {
          "base_uri": "https://localhost:8080/"
        },
        "id": "h0qVobSOVWar",
        "outputId": "38558369-da0a-49c2-fc32-674220990e1b"
      },
      "execution_count": null,
      "outputs": [
        {
          "output_type": "stream",
          "name": "stdout",
          "text": [
            "\n",
            "TFIDF Clusters:\n",
            "Cluster 3:\n",
            "  Looking for a software engineer proficient in Python and JavaScript to work on full-stack development with experience in Django and React.\n",
            "  Looking for a machine learning engineer experienced in building models using TensorFlow and PyTorch to work on predictive analytics projects.\n",
            "Cluster 4:\n",
            "  Seeking a marketing specialist with expertise in SEO, content strategy, and social media management to develop and execute digital marketing campaigns.\n",
            "  Looking for a content writer to produce high-quality blog posts, articles, and copy for websites, with excellent research and writing skills.\n",
            "  Seeking an HR manager to handle employee relations, talent acquisition, and performance management for a fast-growing tech startup.\n",
            "Cluster 1:\n",
            "  Hiring a financial analyst to perform data-driven analysis, generate financial reports, and assist in strategic decision-making.\n",
            "  Hiring a data scientist with experience in statistical modeling, data mining, and visualization tools like Tableau and Power BI.\n",
            "Cluster 0:\n",
            "  We are looking for a project manager with PMP certification to oversee software development teams and ensure project delivery within deadlines.\n",
            "  We are hiring a customer support specialist to manage client queries and provide exceptional service through multiple channels, including chat, phone, and email.\n",
            "Cluster 2:\n",
            "  Seeking a UX/UI designer to create engaging, user-friendly interfaces, with strong skills in Figma and Adobe XD.\n"
          ]
        }
      ]
    },
    {
      "cell_type": "code",
      "source": [
        "from sklearn.metrics import silhouette_score\n",
        "valid_labels = cluster_labels != -1  # Exclude noise points\n",
        "if valid_labels.sum() > 1:  # At least two samples are required to calculate the silhouette score\n",
        "    silhouette_avg = silhouette_score(tfidf_vectors[valid_labels], cluster_labels[valid_labels])\n",
        "    print(f\"Silhouette Score: {silhouette_avg:.4f}\")\n",
        "else:\n",
        "    print(\"Not enough valid labels to calculate silhouette score.\")"
      ],
      "metadata": {
        "id": "7O2jX2_tVlOm",
        "colab": {
          "base_uri": "https://localhost:8080/"
        },
        "outputId": "adab13be-6194-4322-dda3-81020a64e0f3"
      },
      "execution_count": null,
      "outputs": [
        {
          "output_type": "stream",
          "name": "stdout",
          "text": [
            "Silhouette Score: 0.0181\n"
          ]
        }
      ]
    },
    {
      "cell_type": "code",
      "source": [],
      "metadata": {
        "id": "C7UYyRCN5dM5"
      },
      "execution_count": null,
      "outputs": []
    }
  ]
}